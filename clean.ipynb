{
 "cells": [
  {
   "cell_type": "markdown",
   "metadata": {},
   "source": [
    "Testing links \n",
    "https://www.kaggle.com/datasets/snehangsude/audible-dataset?select=audible_uncleaned.csv\n",
    "https://www.kaggle.com/datasets/rashikrahmanpritom/data-science-job-posting-on-glassdoor?select=Uncleaned_DS_jobs.csv\n",
    "https://www.kaggle.com/datasets/borapajo/food-choices?select=food_coded.csv\n",
    "https://www.kaggle.com/datasets/bharatnatrayn/movies-dataset-for-feature-extracion-prediction?select=movies.csv"
   ]
  },
  {
   "cell_type": "code",
   "execution_count": 1,
   "metadata": {},
   "outputs": [],
   "source": [
    "import pandas as pd\n",
    "import numpy as np"
   ]
  },
  {
   "cell_type": "code",
   "execution_count": 2,
   "metadata": {},
   "outputs": [],
   "source": [
    "fp = 'test-data/jobs/Uncleaned_DS_jobs.csv'"
   ]
  },
  {
   "cell_type": "markdown",
   "metadata": {},
   "source": [
    "**Loading in the data**"
   ]
  },
  {
   "cell_type": "code",
   "execution_count": 3,
   "metadata": {},
   "outputs": [],
   "source": [
    "df = pd.read_csv(fp)"
   ]
  },
  {
   "cell_type": "code",
   "execution_count": 5,
   "id": "74b2f98b",
   "metadata": {},
   "outputs": [],
   "source": [
    "import pandas as pd\n",
    "import numpy as np\n",
    "from sklearn.impute import SimpleImputer\n",
    "import matplotlib.pyplot as plt\n",
    "import seaborn as sns"
   ]
  },
  {
   "cell_type": "markdown",
   "id": "7674edc3",
   "metadata": {},
   "source": [
    "**Loading the Data**"
   ]
  },
  {
   "cell_type": "code",
   "execution_count": null,
   "id": "075baced",
   "metadata": {},
   "outputs": [],
   "source": [
    "# Provide the file path to your dataset\n",
    "fp = 'path/to/your/dataset.csv'\n",
    "\n",
    "# Load the dataset\n",
    "df = pd.read_csv(fp)\n",
    "df.head()"
   ]
  },
  {
   "cell_type": "markdown",
   "id": "80066cbb",
   "metadata": {},
   "source": [
    "**Data Quality Assessment**"
   ]
  },
  {
   "cell_type": "code",
   "execution_count": null,
   "id": "1837d48a",
   "metadata": {},
   "outputs": [],
   "source": [
    "\n",
    "def assess_data_quality(df):\n",
    "    report = {}\n",
    "    report['missing_values'] = df.isnull().sum()\n",
    "    report['outliers'] = df.apply(lambda x: x[(x - x.mean()).abs() > 3 * x.std()].count())\n",
    "    report['inconsistent_formatting'] = df.apply(lambda x: x.str.contains('[^A-Za-z0-9]', regex=True).sum() if x.dtype == 'O' else 0)\n",
    "    return report\n",
    "\n",
    "# Assess data quality\n",
    "quality_report = assess_data_quality(df)\n",
    "quality_report\n",
    "    "
   ]
  },
  {
   "cell_type": "markdown",
   "id": "3705fc51",
   "metadata": {},
   "source": [
    "**Data Anonymization**"
   ]
  },
  {
   "cell_type": "code",
   "execution_count": null,
   "id": "3b3e7825",
   "metadata": {},
   "outputs": [],
   "source": [
    "\n",
    "def anonymize_data(df, columns_to_anonymize):\n",
    "    for column in columns_to_anonymize:\n",
    "        if column in df.columns:\n",
    "            df[column] = df[column].apply(lambda x: hash(x) if isinstance(x, str) else x)\n",
    "    return df\n",
    "\n",
    "columns_to_anonymize = ['column_name1', 'column_name2']\n",
    "df_anonymized = anonymize_data(df, columns_to_anonymize)\n",
    "df_anonymized.head()\n",
    "    "
   ]
  },
  {
   "cell_type": "markdown",
   "id": "c5c6e1a6",
   "metadata": {},
   "source": [
    "**Adaptive Data Cleaning**"
   ]
  },
  {
   "cell_type": "code",
   "execution_count": null,
   "id": "1aadbde8",
   "metadata": {},
   "outputs": [],
   "source": [
    "\n",
    "def clean_data(df, method='automatic'):\n",
    "    if method == 'automatic':\n",
    "        # Implement logic to automatically choose cleaning method\n",
    "        imputer = SimpleImputer(strategy='mean')\n",
    "    elif method == 'mean':\n",
    "        imputer = SimpleImputer(strategy='mean')\n",
    "    elif method == 'median':\n",
    "        imputer = SimpleImputer(strategy='median')\n",
    "    else:\n",
    "        imputer = SimpleImputer(strategy='most_frequent')\n",
    "    \n",
    "    df_cleaned = pd.DataFrame(imputer.fit_transform(df.select_dtypes(include=[np.number])), columns=df.select_dtypes(include=[np.number]).columns)\n",
    "    return df_cleaned\n",
    "\n",
    "# Example: Clean data using the 'mean' method\n",
    "df_cleaned = clean_data(df, method='mean')\n",
    "df_cleaned.head()\n",
    "    "
   ]
  }
 ],
 "metadata": {
  "kernelspec": {
   "display_name": "cleaning",
   "language": "python",
   "name": "python3"
  },
  "language_info": {
   "codemirror_mode": {
    "name": "ipython",
    "version": 3
   },
   "file_extension": ".py",
   "mimetype": "text/x-python",
   "name": "python",
   "nbconvert_exporter": "python",
   "pygments_lexer": "ipython3",
   "version": "3.12.3"
  }
 },
 "nbformat": 4,
 "nbformat_minor": 2
}
